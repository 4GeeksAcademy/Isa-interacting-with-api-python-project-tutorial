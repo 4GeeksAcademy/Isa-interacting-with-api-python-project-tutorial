{
    "cells": [
        {
            "cell_type": "markdown",
            "metadata": {},
            "source": [
                "# Explore here"
            ]
        },
        {
            "cell_type": "code",
            "execution_count": 1,
            "metadata": {},
            "outputs": [],
            "source": [
                "from dotenv import load_dotenv\n",
                "\n",
                "load_dotenv()\n",
                "\n",
                "import os\n",
                "\n",
                "client_id = os.environ.get(\"CLIENT_ID\")\n",
                "client_secret = os.environ.get(\"CLIENT_SECRET\")"
            ]
        },
        {
            "cell_type": "code",
            "execution_count": 23,
            "metadata": {},
            "outputs": [
                {
                    "name": "stdout",
                    "output_type": "stream",
                    "text": [
                        "Index(['album', 'artists', 'disc_number', 'duration_ms', 'explicit',\n",
                        "       'external_ids', 'external_urls', 'href', 'id', 'is_local',\n",
                        "       'is_playable', 'name', 'popularity', 'preview_url', 'track_number',\n",
                        "       'type', 'uri'],\n",
                        "      dtype='object')\n"
                    ]
                },
                {
                    "name": "stderr",
                    "output_type": "stream",
                    "text": [
                        "/tmp/ipykernel_5235/1826034509.py:22: SettingWithCopyWarning: \n",
                        "A value is trying to be set on a copy of a slice from a DataFrame.\n",
                        "Try using .loc[row_indexer,col_indexer] = value instead\n",
                        "\n",
                        "See the caveats in the documentation: https://pandas.pydata.org/pandas-docs/stable/user_guide/indexing.html#returning-a-view-versus-a-copy\n",
                        "  data['duration_min']=data['duration_ms']/1000/60\n"
                    ]
                },
                {
                    "data": {
                        "text/html": [
                            "<div>\n",
                            "<style scoped>\n",
                            "    .dataframe tbody tr th:only-of-type {\n",
                            "        vertical-align: middle;\n",
                            "    }\n",
                            "\n",
                            "    .dataframe tbody tr th {\n",
                            "        vertical-align: top;\n",
                            "    }\n",
                            "\n",
                            "    .dataframe thead th {\n",
                            "        text-align: right;\n",
                            "    }\n",
                            "</style>\n",
                            "<table border=\"1\" class=\"dataframe\">\n",
                            "  <thead>\n",
                            "    <tr style=\"text-align: right;\">\n",
                            "      <th></th>\n",
                            "      <th>name</th>\n",
                            "      <th>popularity</th>\n",
                            "      <th>duration_ms</th>\n",
                            "      <th>duration_min</th>\n",
                            "    </tr>\n",
                            "  </thead>\n",
                            "  <tbody>\n",
                            "    <tr>\n",
                            "      <th>0</th>\n",
                            "      <td>Soldadito marinero</td>\n",
                            "      <td>71</td>\n",
                            "      <td>254373</td>\n",
                            "      <td>4.239550</td>\n",
                            "    </tr>\n",
                            "    <tr>\n",
                            "      <th>1</th>\n",
                            "      <td>Por la boca vive el pez</td>\n",
                            "      <td>69</td>\n",
                            "      <td>269373</td>\n",
                            "      <td>4.489550</td>\n",
                            "    </tr>\n",
                            "    <tr>\n",
                            "      <th>2</th>\n",
                            "      <td>Antes de que cuente diez</td>\n",
                            "      <td>66</td>\n",
                            "      <td>285040</td>\n",
                            "      <td>4.750667</td>\n",
                            "    </tr>\n",
                            "    <tr>\n",
                            "      <th>3</th>\n",
                            "      <td>La casa por el tejado</td>\n",
                            "      <td>66</td>\n",
                            "      <td>267760</td>\n",
                            "      <td>4.462667</td>\n",
                            "    </tr>\n",
                            "    <tr>\n",
                            "      <th>4</th>\n",
                            "      <td>Me equivocaría otra vez</td>\n",
                            "      <td>65</td>\n",
                            "      <td>306240</td>\n",
                            "      <td>5.104000</td>\n",
                            "    </tr>\n",
                            "  </tbody>\n",
                            "</table>\n",
                            "</div>"
                        ],
                        "text/plain": [
                            "                       name  popularity  duration_ms  duration_min\n",
                            "0        Soldadito marinero          71       254373      4.239550\n",
                            "1   Por la boca vive el pez          69       269373      4.489550\n",
                            "2  Antes de que cuente diez          66       285040      4.750667\n",
                            "3     La casa por el tejado          66       267760      4.462667\n",
                            "4   Me equivocaría otra vez          65       306240      5.104000"
                        ]
                    },
                    "execution_count": 23,
                    "metadata": {},
                    "output_type": "execute_result"
                }
            ],
            "source": [
                "import spotipy\n",
                "import pandas as pd\n",
                "from spotipy.oauth2 import SpotifyClientCredentials,SpotifyOAuth\n",
                "\n",
                "sp_oauth = SpotifyOAuth(client_id=client_id, client_secret=client_secret, redirect_uri=\"YOUR_REDIRECT_URI\", scope=\"user-library-read\")\n",
                "\n",
                "client_credentials_manager = SpotifyClientCredentials(client_id=client_id, client_secret=client_secret)\n",
                "\n",
                "# Crear una instancia de Spotipy usando las credenciales de cliente\n",
                "spotify = spotipy.Spotify(client_credentials_manager=client_credentials_manager)\n",
                "\n",
                "uri = 'spotify:artist:1tZ99AnqyjgrmPwLfGU5eo'\n",
                "\n",
                "results = spotify.artist_top_tracks(uri)\n",
                "\n",
                "\n",
                "tracks=pd.DataFrame(results['tracks'])\n",
                "print(tracks.columns)\n",
                "#duration_ms\n",
                "\n",
                "data=tracks[['name','popularity','duration_ms']]\n",
                "data['duration_min']=data['duration_ms']/1000/60\n",
                "data.drop('duration_ms',axis=1,inplace=True)\n",
                "data.head()"
            ]
        },
        {
            "cell_type": "markdown",
            "metadata": {},
            "source": [
                "Vamos a ordenar por popularidad y obtener las 3 primeras"
            ]
        },
        {
            "cell_type": "code",
            "execution_count": 35,
            "metadata": {},
            "outputs": [
                {
                    "name": "stdout",
                    "output_type": "stream",
                    "text": [
                        "El top 3 de popularidad de Fito es:\n",
                        "0          Soldadito marinero\n",
                        "1     Por la boca vive el pez\n",
                        "2    Antes de que cuente diez\n",
                        "Name: name, dtype: object\n",
                        "\n",
                        "\n",
                        "                       name  popularity  duration_min\n",
                        "9        Lo que sobra de mí          58      3.668667\n",
                        "7           Me acordé de ti          60      4.086883\n",
                        "8        Rojitas las orejas          60      3.735550\n",
                        "6           Acabo de llegar          61      6.251983\n",
                        "5      Camiseta de Rokanrol          62      3.830533\n",
                        "4   Me equivocaría otra vez          65      5.104000\n",
                        "2  Antes de que cuente diez          66      4.750667\n",
                        "3     La casa por el tejado          66      4.462667\n",
                        "1   Por la boca vive el pez          69      4.489550\n",
                        "0        Soldadito marinero          71      4.239550\n"
                    ]
                }
            ],
            "source": [
                "\n",
                "print(f\"El top 3 de popularidad de Fito es:\\n{data.sort_values('popularity',ascending=False).iloc[0:3,0]}\\n\\n\")\n",
                "\n",
                "print(data.sort_values('popularity',ascending=True))\n"
            ]
        },
        {
            "cell_type": "markdown",
            "metadata": {},
            "source": [
                "Analizamos si la popularidad y la duración están relacionadas"
            ]
        },
        {
            "cell_type": "code",
            "execution_count": 44,
            "metadata": {},
            "outputs": [
                {
                    "data": {
                        "image/png": "[encoded data removed]",
                        "text/plain": [
                            "<Figure size 1000x400 with 3 Axes>"
                        ]
                    },
                    "metadata": {},
                    "output_type": "display_data"
                }
            ],
            "source": [
                "import seaborn as sns\n",
                "import matplotlib.pyplot as plt\n",
                "\n",
                "fig, axis= plt.subplots(1,2, figsize=(10,4))\n",
                "\n",
                "sns.regplot(data=data,x='duration_min',y='popularity',ax=axis[0])\n",
                "sns.heatmap(data=data.corr(),annot=True,ax=axis[1])\n",
                "plt.tight_layout()\n",
                "plt.show()"
            ]
        },
        {
            "cell_type": "markdown",
            "metadata": {},
            "source": [
                "7 ¿Tiene relación la duración con la popularidad? ¿Podríamos decir que una canción que dure poco tiempo puede ser más popular que otra que dure más? Analízalo graficando un scatter plot y argumenta tu respuesta.\n",
                "\n",
                "La relación que existe no es significativa, aunque tenemos muy pocos datos para validarlo. Igualmente, de haber una relación, la relación es directa, es decir, a mayor tiempo, mayor popularidad, ya que la correlación es positiva."
            ]
        }
    ],
    "metadata": {
        "kernelspec": {
            "display_name": "Python 3.8.13 64-bit ('3.8.13')",
            "language": "python",
            "name": "python3"
        },
        "language_info": {
            "codemirror_mode": {
                "name": "ipython",
                "version": 3
            },
            "file_extension": ".py",
            "mimetype": "text/x-python",
            "name": "python",
            "nbconvert_exporter": "python",
            "pygments_lexer": "ipython3",
            "version": "3.11.4"
        },
        "orig_nbformat": 4,
        "vscode": {
            "interpreter": {
                "hash": "110cc1dee26208153f2972f08a2ad52b6a56238dc66d48e87fb757ef2996db56"
            }
        }
    },
    "nbformat": 4,
    "nbformat_minor": 2
}
